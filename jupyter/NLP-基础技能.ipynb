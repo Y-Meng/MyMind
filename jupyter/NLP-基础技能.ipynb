{
 "cells": [
  {
   "cell_type": "markdown",
   "metadata": {},
   "source": [
    "# 0.Jupyter常用快捷键\n",
    "\n",
    "* **Shift + Enter** : 执行当前cell并选中下个cell\n",
    "* **Shift + J 或 Shift + Down** : 选择下一个cell\n",
    "* **Shift + K 或 Shift + Up** : 选中上一个cell\n",
    "* **Shift + M** : 合并选中cell\n",
    "* **Ctrl + Enter** : 执行下一个cell\n",
    "\n",
    "* **Enter** ： 编辑模式\n",
    "\n",
    "* **Esc** : 命令模式\n",
    "* **Esc a** : 在上方新建cell\n",
    "* **Esc b** : 在下方新建cell\n",
    "* **Esc m** : 切换到markdown\n",
    "* **Esc y** : 切换到code\n",
    "* **Esc l** : 显示行数\n",
    "* **Esc d d** : 删除选中的cell\n",
    "* **Esc 0** : 收起、打开output\n"
   ]
  },
  {
   "cell_type": "markdown",
   "metadata": {},
   "source": [
    "# 1.python正则库"
   ]
  },
  {
   "cell_type": "code",
   "execution_count": 2,
   "metadata": {},
   "outputs": [
    {
     "name": "stdout",
     "output_type": "stream",
     "text": [
      "hello, World!\n"
     ]
    }
   ],
   "source": [
    "# encoding: UTF-8\n",
    "# py3默认编码utf-8，无需声明\n",
    "import re\n",
    "pattern = re.compile(r'hello.*\\!')\n",
    "match = pattern.match('hello, World! how are you?')\n",
    "if match:\n",
    "    print(match.group())"
   ]
  },
  {
   "cell_type": "markdown",
   "metadata": {},
   "source": [
    "# 2.jieba中文处理\n",
    "\n",
    "特点\n",
    "* 支持三种分词模式：\n",
    " * 精确模式，试图将句子最精确地切开，适合文本分析；\n",
    " * 全模式，把句子中所有的可以成词的词语都扫描出来, 速度非常快，但是不能解决歧义；\n",
    " * 搜索引擎模式，在精确模式的基础上，对长词再次切分，提高召回率，适合用于搜索引擎分词。\n",
    "* 支持繁体分词\n",
    "* 支持自定义词典\n",
    "\n",
    "代码对 Python 2/3 均兼容\n",
    "\n",
    "安装\n",
    "\n",
    "* 全自动安装：easy_install jieba 或者pip install jieba / pip3 install jieba\n",
    "* 半自动安装：先下载 http://pypi.python.org/pypi/jieba/ ，解压后运行 python setup.py install\n",
    "* 手动安装：将 jieba 目录放置于当前目录或者 site-packages 目录\n",
    "\n",
    "通过 import jieba 来引用\n",
    "\n",
    "## 2.1.基本分词函数与用法\n",
    "\n",
    "### jieba.cut()接受三个参数：\n",
    "\n",
    "* 需要分词的字符串\n",
    "* cut_all 是否采用全模式\n",
    "* HMM 是否使用HMM（隐马）模型\n",
    "\n",
    "### jieba.cut_for_search()方法接受两个参数：\n",
    "* 需要分词的字符串\n",
    "* 是否使用HMM模型\n",
    "适合构建构建搜索引擎倒排索引"
   ]
  },
  {
   "cell_type": "code",
   "execution_count": 9,
   "metadata": {},
   "outputs": [
    {
     "name": "stdout",
     "output_type": "stream",
     "text": [
      "我/在/学习/自然/自然语言/语言/处理\n"
     ]
    }
   ],
   "source": [
    "import jieba\n",
    "\n",
    "seg_list = jieba.cut(\"我在学习自然语言处理\", cut_all=True)\n",
    "\n",
    "print(\"/\".join(seg_list))"
   ]
  },
  {
   "cell_type": "markdown",
   "metadata": {},
   "source": [
    "## 2.2.用户自定义词典\n",
    "\n",
    "1. 可以用jieba.load_userdict(file_name)加载用户词典\n",
    "2. 少量词汇可以自己手动加载\n",
    " * add_word(word, freq=None, tag=None)和del_word(word)动态添加和删除\n",
    " * suggest_freq(segment, tune=True)可调节单个词语的词频，使其能（或不能）被分出来\n",
    " \n",
    "注意：动态添加词语后分词，需要讲HMM关闭。"
   ]
  },
  {
   "cell_type": "code",
   "execution_count": null,
   "metadata": {},
   "outputs": [],
   "source": [
    "import jieba\n",
    "\n"
   ]
  },
  {
   "cell_type": "markdown",
   "metadata": {},
   "source": [
    "## 2.3.关键词提取\n",
    "\n",
    "### 基于TF-IDF算法的关键词抽取\n",
    "\n",
    "jieba.analyse.extract_tags(sentence, topK=20, withWeight=False, allowPOS={})\n"
   ]
  },
  {
   "cell_type": "markdown",
   "metadata": {},
   "source": [
    "### 基于TextRank算法的关键词抽取\n",
    "\n",
    "基于PageRank算法，数据量越大效果越好。\n"
   ]
  },
  {
   "cell_type": "markdown",
   "metadata": {},
   "source": [
    "## 2.4.词性标注\n"
   ]
  }
 ],
 "metadata": {
  "kernelspec": {
   "display_name": "Python 3",
   "language": "python",
   "name": "python3"
  },
  "language_info": {
   "codemirror_mode": {
    "name": "ipython",
    "version": 3
   },
   "file_extension": ".py",
   "mimetype": "text/x-python",
   "name": "python",
   "nbconvert_exporter": "python",
   "pygments_lexer": "ipython3",
   "version": "3.6.3"
  }
 },
 "nbformat": 4,
 "nbformat_minor": 1
}
