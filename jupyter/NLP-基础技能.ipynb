{
 "cells": [
  {
   "cell_type": "markdown",
   "metadata": {},
   "source": [
    "# 0.Jupyter常用快捷键\n",
    "\n",
    "* **Shift + Enter** : 执行当前cell并选中下个cell\n",
    "* **Shift + J 或 Shift + Down** : 选择下一个cell\n",
    "* **Shift + K 或 Shift + Up** : 选中上一个cell\n",
    "* **Shift + M** : 合并选中cell\n",
    "* **Ctrl + Enter** : 执行下一个cell\n",
    "\n",
    "* **Enter** ： 编辑模式\n",
    "\n",
    "* **Esc** : 命令模式\n",
    "* **Esc a** : 在上方新建cell\n",
    "* **Esc b** : 在下方新建cell\n",
    "* **Esc m** : 切换到markdown\n",
    "* **Esc y** : 切换到code\n",
    "* **Esc l** : 显示行数\n",
    "* **Esc d d** : 删除选中的cell\n",
    "* **Esc 0** : 收起、打开output\n"
   ]
  },
  {
   "cell_type": "markdown",
   "metadata": {},
   "source": [
    "# 1.python正则库"
   ]
  },
  {
   "cell_type": "code",
   "execution_count": 2,
   "metadata": {},
   "outputs": [
    {
     "name": "stdout",
     "output_type": "stream",
     "text": [
      "hello, World!\n"
     ]
    }
   ],
   "source": [
    "# encoding: UTF-8\n",
    "# py3默认编码utf-8，无需声明\n",
    "import re\n",
    "pattern = re.compile(r'hello.*\\!')\n",
    "match = pattern.match('hello, World! how are you?')\n",
    "if match:\n",
    "    print(match.group())"
   ]
  }
 ],
 "metadata": {
  "kernelspec": {
   "display_name": "Python 2",
   "language": "python",
   "name": "python2"
  },
  "language_info": {
   "codemirror_mode": {
    "name": "ipython",
    "version": 2.0
   },
   "file_extension": ".py",
   "mimetype": "text/x-python",
   "name": "python",
   "nbconvert_exporter": "python",
   "pygments_lexer": "ipython2",
   "version": "2.7.13"
  }
 },
 "nbformat": 4,
 "nbformat_minor": 0
}