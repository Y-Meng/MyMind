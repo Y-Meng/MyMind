{
 "cells": [
  {
   "cell_type": "markdown",
   "metadata": {},
   "source": [
    "# 马尔科夫链\n",
    "\n",
    "概念：每个状体的转移只依赖于之前的n个状体，这个过程被称为一个n阶模型，其中n是影响转移状态的数目。最简单的马尔科夫过程就是一阶过程，每个状态的转移只依赖其之前的哪一个状态。\n",
    "\n",
    "公式：\n",
    "$P(X_{n+1}=x|X_1=x_1,X_2=x_2,...,X_n=x_n)=P(X_{n+1}=x|X_n=x_n)$"
   ]
  },
  {
   "cell_type": "markdown",
   "metadata": {},
   "source": [
    "举例：\n",
    "假设天气服从马尔科夫链\n",
    "状态转移矩阵：$P=( \\begin{matrix}\n",
    "   0.9 & 0.1 \\\\\n",
    "   0.5 & 0.5\n",
    "  \\end{matrix})$\n",
    "从今天开始，在遥远的未来某天，晴阴的概率分布：\n",
    "\n",
    "$q = lim_{n \\to +\\infty}(1 0)P^n = (0.833 0.167)$\n",
    "\n",
    "$(1 0)P^\\infty = (0 1)P^\\infty$\n",
    "\n",
    "所以：不管今天晴阴，很多天之后的晴阴分布收敛到一个固定分布，这个固定分布叫**稳态分布**。\n",
    "\n",
    "### 马尔科夫链定义的三个部分\n",
    "1. 状态，如：晴天 阴天\n",
    "2. 初始向量：定义系统在时间为0的时候的状态概率\n",
    "3. 状态转移矩阵：每种天气转换的概率\n",
    "\n",
    "所有的能被这样描述的系统都是一个马尔科夫过程。\n",
    "\n",
    "### 马尔科夫链的缺陷\n",
    "\n",
    "* 前后关系的缺失，带来了信息的缺失\n",
    "\n",
    "比如：我们在股市中只是观测市场，只能知道当天价格，成交量等，无法感知牛熊。\n"
   ]
  },
  {
   "cell_type": "markdown",
   "metadata": {},
   "source": [
    "# 隐马尔科夫链\n",
    "\n",
    "概念：隐马尔科夫模型(Hidden Markov Model)是一种统计模型，用来描述一个有隐含未知参数的马尔科夫过程。其难点是从可观察的参数中确定该过程的隐含参数，然后利用这些参数来作进一步的分析。\n",
    "\n",
    "可观测的结果为可见状体链，不可观测的状态为隐性状态链。\n",
    "\n",
    "例子：掷骰子，有一个8面的骰子，一个6面的骰子，一个3面的骰子；随机挑选一个骰子投掷，可观测出结果点数，但无法观测是哪种骰子。\n",
    "点数就是可见状态链，骰子种类就是隐形状态链。\n",
    "\n",
    "![展开链](https://images0.cnblogs.com/blog/133059/201507/161450330639383.png)\n",
    "\n",
    "隐藏转台转移模型\n",
    "\n",
    "![隐藏状态转移模型](https://images0.cnblogs.com/blog/133059/201507/161450345487598.png)\n"
   ]
  },
  {
   "cell_type": "markdown",
   "metadata": {},
   "source": [
    "## 隐马尔科夫链的三大问题\n",
    "\n",
    "1. Evaluation\n",
    "2. Recognition（语音识别...）\n",
    "3. Training\n",
    "\n",
    "1. 知道骰子有几种（隐含状态数量），每种骰子是什么（转换概率）；根据骰子投掷结果（可见状态链），想知道投掷出这个结果的概率。\n",
    "2. 知道骰子有几种（隐含状态数量），每种骰子是什么（转换概率）；根据骰子投掷结果（可见状态链），想知道每次投掷的是哪种骰子（隐性状态链）。\n",
    "3. 知道骰子有几种（隐含状态数量），不知道每种骰子是什么（转换概率）；观测到每次投掷结果（可见状态链），想反推出每种骰子是什么（转换概率）。\n",
    "\n",
    "公式表示：\n",
    "初始概率分布：$\\pi$，状态转移矩阵A，观测量概率分布B；模型：$model=(A,B,\\pi)$\n",
    "\n",
    "## 马尔科夫链解法\n",
    "\n",
    "* 问题一：Forward Algorithm，向前算法；或者Backward Algorithm，向后算法。\n",
    "* 问题二：Viterbi Algorithm，维特比算法。\n",
    "* 问题三：Baum-Welch Algorithm，鲍姆-韦尔奇算法。\n",
    "\n"
   ]
  },
  {
   "cell_type": "markdown",
   "metadata": {},
   "source": [
    "# 应用：词性标注\n"
   ]
  }
 ],
 "metadata": {
  "kernelspec": {
   "display_name": "Python 3",
   "language": "python",
   "name": "python3"
  },
  "language_info": {
   "codemirror_mode": {
    "name": "ipython",
    "version": 3
   },
   "file_extension": ".py",
   "mimetype": "text/x-python",
   "name": "python",
   "nbconvert_exporter": "python",
   "pygments_lexer": "ipython3",
   "version": "3.6.3"
  }
 },
 "nbformat": 4,
 "nbformat_minor": 2
}
