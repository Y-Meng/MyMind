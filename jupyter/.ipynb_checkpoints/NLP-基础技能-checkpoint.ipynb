{
 "cells": [
  {
   "cell_type": "markdown",
   "metadata": {},
   "source": [
    "# 0.Jupyter常用快捷键\n",
    "\n",
    "* **Shift + Enter** : 执行当前cell并选中下个cell\n",
    "* **Shift + J 或 Shift + Down** : 选择下一个cell\n",
    "* **Shift + K 或 Shift + Up** : 选中上一个cell\n",
    "* **Shift + M** : 合并选中cell\n",
    "* **Ctrl + Enter** : 执行下一个cell\n",
    "\n",
    "* **Enter** ： 编辑模式\n",
    "\n",
    "* **Esc** : 命令模式\n",
    "* **Esc a** : 在上方新建cell\n",
    "* **Esc b** : 在下方新建cell\n",
    "* **Esc m** : 切换到markdown\n",
    "* **Esc y** : 切换到code\n",
    "* **Esc l** : 显示行数\n",
    "* **Esc d d** : 删除选中的cell\n",
    "* **Esc 0** : 收起、打开output\n"
   ]
  },
  {
   "cell_type": "markdown",
   "metadata": {},
   "source": [
    "# 0.python3入门\n",
    "\n",
    "## 1.变量和数据类型\n",
    "\n",
    "### 关键字\n",
    "\n",
    "每一种编程语言都有它们自己的语法规则，就像我们所说的外语。下列的标识符是 Python3 的关键字，并且不能用于通常的标识符。关键字必须完全按照下面拼写：\n",
    "\n",
    "关键字|关键字|关键字|关键字\n",
    "-|-|-|-\n",
    "False|def|if|raise\n",
    "None|del|import|return\n",
    "True |elif|in|try\n",
    "and|else|is|while\n",
    "as |except|lambda|with\n",
    "assert|finally |nonlocal|yield\n",
    "break|for|not|class\n",
    "from|or|continue|global\n",
    "pass|\n",
    "\n",
    "### 变量声明\n",
    "在 Python 中 我们不需要为变量指定数据类型。所以你可以直接写出 abc = 1 ，这样变量 abc 就是整数类型。如果你写出 abc = 1.0 ，那么变量 abc 就是浮点类型。\n",
    "```python\n",
    "a=1\n",
    "b=1\n",
    "print(a+b)\n",
    "```\n",
    "通过上面的例子你应该理解了如何在 Python 中定义变量，也就是只需要输入变量名和值就行了。Python 也能操作字符串，它们用单引号或双引号括起来，就像下面这样。\n",
    "```python\n",
    "s = 'ShiYanLou'\n",
    "s1 = 'ShiYanLou\\'s best' \n",
    "s2 = \"ShiYanLou's best\" \n",
    "```\n",
    "\n",
    "\n",
    "### 获取键盘输入\n",
    "通常情况下，Python 的代码中是不需要从键盘读取输入的。不过我们还是可以在 Python 中使用函数 input() 来做到这一点，input() 有一个用于打印在屏幕上的可选字符串参数，返回用户输入的字符串。\n",
    "```python\n",
    "number = int(input(\"Enter an integer: \"))\n",
    "if number <= 100:\n",
    "    print(\"Your number is smaller than equal to 100\")\n",
    "else:\n",
    "    print(\"Your number is greater than 100\")\n",
    "   \n",
    "```\n",
    "\n",
    "### 单行定义多个变量并赋值\n",
    "你甚至可以在一行内将多个值赋值给多个变量。\n",
    "```python\n",
    "a , b = 45, 54\n",
    "# a=45, b=54\n",
    "```\n",
    "这个技巧用来交换两个数的值非常方便。\n",
    "```python\n",
    "a, b = b , a\n",
    "# 此时a=54, b=45\n",
    "```\n",
    "\n",
    "要明白这是怎么工作的，你需要学习元组（tuple）这个数据类型。我们是用逗号创建元组。在赋值语句的右边我们创建了一个元组，我们称这为元组封装（tuple packing），赋值语句的左边我们则做的是元组拆封 （tuple unpacking）。\n",
    "下面是另一个元组拆封的例子：\n",
    "```python\n",
    "data = (\"shiyanlou\", \"China\", \"Python\")\n",
    "name, country, language = data\n",
    "print(name)\n",
    "# 'shiyanlou'\n",
    "print(country)\n",
    "# 'China'\n",
    "print(language)\n",
    "# 'Python'\n",
    "```"
   ]
  },
  {
   "cell_type": "markdown",
   "metadata": {},
   "source": [
    "# 1.python正则库"
   ]
  },
  {
   "cell_type": "code",
   "execution_count": 2,
   "metadata": {},
   "outputs": [
    {
     "name": "stdout",
     "output_type": "stream",
     "text": [
      "hello, World!\n"
     ]
    }
   ],
   "source": [
    "# encoding: UTF-8\n",
    "# py3默认编码utf-8，无需声明\n",
    "import re\n",
    "pattern = re.compile(r'hello.*\\!')\n",
    "match = pattern.match('hello, World! how are you?')\n",
    "if match:\n",
    "    print(match.group())"
   ]
  },
  {
   "cell_type": "markdown",
   "metadata": {},
   "source": [
    "# 2.jieba分词库使用"
   ]
  }
 ],
 "metadata": {
  "kernelspec": {
   "display_name": "Python 3",
   "language": "python",
   "name": "python3"
  },
  "language_info": {
   "codemirror_mode": {
    "name": "ipython",
    "version": 3
   },
   "file_extension": ".py",
   "mimetype": "text/x-python",
   "name": "python",
   "nbconvert_exporter": "python",
   "pygments_lexer": "ipython3",
   "version": "3.6.3"
  }
 },
 "nbformat": 4,
 "nbformat_minor": 1
}
