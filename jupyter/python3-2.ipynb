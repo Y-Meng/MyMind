{
 "cells": [
  {
   "cell_type": "markdown",
   "metadata": {},
   "source": [
    "## 6.字符串处理\n",
    "\n",
    "### 字符串的表示\n",
    "字符串是 Python 中最常用的数据类型。可以通过几种不同的方式表示字符串。如单引号（'...'）或双引号（\"...\"）。\n",
    "如果你想要分几行输入字符串，并且希望行尾的换行符自动包含到字符串当中，可以使用三对引号：\"\"\"...\"\"\" 或 '''...''' 。\n",
    "```python\n",
    "# 字符串\n",
    "s1 = '我是字符串'\n",
    "s2 = \"我也是字符串\"\n",
    "s3 = \"\"\"\\\n",
    "... 我是换行字符串\n",
    "...      1行\n",
    "...      2行\n",
    "... \"\"\"\n",
    "```\n",
    "\n",
    "### 字符串内建方法\n",
    "\n",
    "每一个字符串对象都有几个可用的内建方法，我们已经使用过一些了，比如 s.split()。\n",
    "\n",
    "```python\n",
    "# 方法 title() 返回字符串的标题版本，即单词首字母大写其余字母小写。\n",
    "s = \"shi yan lou\"\n",
    "s.title() # 'Shi Yan Lou'\n",
    "\n",
    "# 方法 upper() 返回字符串全部大写的版本，反之 lower() 返回字符串的全部小写版本。\n",
    "z = s.upper() # 'SHI YAN LOU'\n",
    "z.lower() # 'shi yan lou'\n",
    "\n",
    "# 方法 swapcase() 返回字符串大小写交换后的版本 :）\n",
    "s = \"I am A pRoGraMMer\"\n",
    "s.swapcase() # 'i AM a PrOgRAmmER'\n",
    "\n",
    "# 方法 isalnum() 检查所有字符是否为字母数字，下面的代码中第一行的字符串 s 中包含空格字符，所以返回 False。\n",
    "s = \"jdwb 2323bjb\"\n",
    "s.isalnum() # False\n",
    "s = \"jdwb2323bjb\"\n",
    "s.isalnum() # True\n",
    "\n",
    "# 方法 isalpha() 检查字符串之中是否只有字母。\n",
    "s = \"SankarshanSir\"\n",
    "s.isalpha() # True\n",
    "s = \"Sankarshan Sir\"\n",
    "s.isalpha() # False\n",
    "\n",
    "# 方法 isdigit() 检查字符串之中是否只有数字\n",
    "s = \"1234\"\n",
    "s.isdigit() # True\n",
    "\n",
    "```\n",
    "\n",
    "我们可以使用 split() 分割任意字符串，split() 允许有一个参数，用来指定字符串以什么字符分隔（默认为 \" \"），它返回一个包含所有分割后的字符串的列表。\n",
    "```python\n",
    "s = \"We all love Python\"\n",
    "s.split() # ['We', 'all', 'love', 'Python']\n",
    "x = \"shiyanlou:is:waiting\"\n",
    "x.split(':') # ['shiyanlou', 'is', 'waiting']\n",
    "```\n",
    "\n",
    "相反的，方法 join() 使用指定字符连接多个字符串，它需要一个包含字符串元素的列表作为输入然后连接列表内的字符串元素。\n",
    "```python\n",
    "\"-\".join(\"GNU/Linux is great\".split())  # 'GNU/Linux-is-great'\n",
    "```\n",
    "\n",
    "### 字符串的剥离\n",
    "字符串有几个进行剥离操作的方法。最简单的一个是 **strip(chars)** ，用来剥离字符串首尾中指定的字符，它允许有一个字符串参数，这个参数为剥离哪些字符提供依据。不指定参数则默认剥离掉首尾的空格和换行符，代码如下：\n",
    "```python\n",
    "s = \"  a bc\\n \"\n",
    "s.strip() # 'a bc'\n",
    "```\n",
    "你可以使用 lstrip(chars) 或 rstrip(chars) 只对字符串左或右剥离，剥离停止位置为第一个非参数字符内的字符。\n",
    "```python\n",
    "s = \"www.foss.in\" \n",
    "s.lstrip(\"cwsd.\") #删除在字符串左边出现的'c','w','s','d','.'字符\n",
    "# 'foss.in'\n",
    "s.rstrip(\"cnwdi.\") #删除在字符串右边出现的'c','n','w','d','i','.'字符\n",
    "# 'www.foss'\n",
    "```\n",
    "\n",
    "### 字符搜索\n",
    "字符串有一些方法能够帮助你搜索字符串里的文本或子字符串。\n",
    "```python\n",
    "# find() 能帮助你找到第一个匹配的子字符串，没有找到则返回 -1。\n",
    "s = \"faulty for a reason\"\n",
    "s.find(\"for\") # 7\n",
    "s.find(\"fora\") # -1\n",
    "\n",
    "# 检查字符串是否以 fa 开头 \n",
    "s.startswith(\"fa\") # True\n",
    "\n",
    "# 检查字符串是否以 reason 结尾\n",
    "s.endswith(\"reason\") # True\n",
    "```\n",
    "\n",
    "### 回文检索 \n",
    "回文是一种无论从左还是从右读都一样的字符序列。比如 “madam”。在这个例子中，我们检查用户输入的字符串是否是回文，并输出结果。\n",
    "```python\n",
    "s = input(\"请输入一个字符串: \")\n",
    "z = s[::-1]\n",
    "if s == z:\n",
    "    print(\"这个字符串是回文\")\n",
    "else:\n",
    "    print(\"这个字符串不是回文\")\n",
    "```"
   ]
  },
  {
   "cell_type": "markdown",
   "metadata": {},
   "source": [
    "## 7.函数\n",
    "\n",
    "我们经常需要在同一个程序里多次复用代码。函数可以很好的帮助我们完成这一点。我们在函数里写我们要重复做的事，然后我们在任何需要的时候调用它。我们已经看到一些内建的函数，比如 len()，divmod()。\n",
    "\n",
    "### 函数的定义\n",
    "在python中，我们使用关键字 def 来定义一个函数，形式如下。\n",
    "```python\n",
    "def fun(params):\n",
    "    statement\n",
    "    return result\n",
    "```\n",
    "现在让我们编写一个函数，它将接受两个整数作为输入，然后返回总和。\n",
    "```python\n",
    "def sum(a, b):\n",
    "    return a + b\n",
    "```\n",
    "第二行有个 return 关键字，我们把 a + b 的值返回给调用者。我们可以像下面这样调用这个函数。\n",
    "```python\n",
    "res = sum(234234, 34453546464)\n",
    "print(res)\n",
    "```\n",
    "\n",
    "### 作用域和全局变量\n",
    "我们通过下边的代码来介绍作用域河全局变量。"
   ]
  },
  {
   "cell_type": "code",
   "execution_count": 2,
   "metadata": {},
   "outputs": [
    {
     "name": "stdout",
     "output_type": "stream",
     "text": [
      "Before the function call  9\n",
      "inside change function 90\n",
      "After the function call  9\n"
     ]
    }
   ],
   "source": [
    "def change():\n",
    "    a = 90\n",
    "    print(a)\n",
    "a = 9\n",
    "print(\"Before the function call \", a)\n",
    "print(\"inside change function\", end=' ')\n",
    "change()\n",
    "print(\"After the function call \", a)"
   ]
  },
  {
   "cell_type": "markdown",
   "metadata": {},
   "source": [
    "首先我们对 a 赋值 9，然后调用change()函数，这个函数里我们对 a 赋值 90，然后打印 a 的值。调用函数后我们再次打印 a 的值。当我们在函数里写 a = 90 时，它实际上创建了一个新的名为 a 的变量，这个变量只在函数里可用，也就是它**作用域只在函数内部** ，会在函数完成时销毁。\n",
    "所以即使这两个变量的名字都相同，但事实上他们并不是同一个变量。\n",
    "将上边的代码修改一下："
   ]
  },
  {
   "cell_type": "code",
   "execution_count": 3,
   "metadata": {},
   "outputs": [
    {
     "name": "stdout",
     "output_type": "stream",
     "text": [
      "Before the function call  9\n",
      "inside change function 90\n",
      "After the function call  90\n"
     ]
    }
   ],
   "source": [
    "def change():\n",
    "    global a\n",
    "    a = 90\n",
    "    print(a)\n",
    "a = 9\n",
    "print(\"Before the function call \", a)\n",
    "print(\"inside change function\", end=' ')\n",
    "change()\n",
    "print(\"After the function call \", a)"
   ]
  },
  {
   "cell_type": "markdown",
   "metadata": {},
   "source": [
    "这里通过关键字 global 来告诉 a 的定义是全局的，因此在函数内部更改了 a 的值，函数外 a 的值也实际上更改了。\n",
    "\n",
    "### 默认参数\n",
    "\n",
    "函数的参数变量可以有默认值，也就是说如果我们对指定的参数变量没有给出任何值则会赋其默认值。\n",
    "```python\n",
    "def test(a , b=-99):\n",
    "    if a > b:\n",
    "        return True\n",
    "    else:\n",
    "        return False\n",
    "```\n",
    "在上面的例子里，我们在函数的参数列表写出 b = -99。这表示如果调用者未给出 b 的值，那么 b 的值默认为 -99。这是一个关于默认参数的非常简单的例子。\n",
    "下面两种调用都是正确的：\n",
    "```python\n",
    "test(12, 23) #False\n",
    "test(12) #True\n",
    "```\n",
    "\n",
    "> 有两个非常重要的地方:\n",
    "> 第一个是具有默认值的参数后面不能再有普通参数，比如 f(a,b=90,c) 就是错误的。\n",
    "> 第二个是默认值只被赋值一次，因此如果默认值是任何可变对象时会有所不同，比如列表、字典或大多数类的实例。\n",
    "\n",
    "例如，下面的函数在后续调用过程中会累积（前面）传给它的参数:"
   ]
  },
  {
   "cell_type": "code",
   "execution_count": 4,
   "metadata": {},
   "outputs": [
    {
     "name": "stdout",
     "output_type": "stream",
     "text": [
      "[1]\n",
      "[1, 2]\n",
      "[1, 2, 3]\n"
     ]
    }
   ],
   "source": [
    "def f(a, data=[]):\n",
    "    data.append(a)\n",
    "    return data\n",
    "print(f(1))\n",
    "print(f(2))\n",
    "print(f(3))"
   ]
  },
  {
   "cell_type": "markdown",
   "metadata": {},
   "source": [
    "要避免这个问题，你可以像下面这样："
   ]
  },
  {
   "cell_type": "code",
   "execution_count": 5,
   "metadata": {},
   "outputs": [
    {
     "name": "stdout",
     "output_type": "stream",
     "text": [
      "[1]\n",
      "[2]\n"
     ]
    }
   ],
   "source": [
    "def f(a, data=None):\n",
    "    if data is None:\n",
    "        data = []\n",
    "    data.append(a)\n",
    "    return data\n",
    "print(f(1))\n",
    "print(f(2))"
   ]
  },
  {
   "cell_type": "markdown",
   "metadata": {},
   "source": [
    "### 关键字参数\n",
    "函数调用时可以通过关键字参数的形式来调用，形如 **keyword = value** 如下：\n",
    "```python\n",
    "def func(a, b=5, c=10):\n",
    "    print('a is', a, 'and b is', b, 'and c is', c)\n",
    "\n",
    "func(12, 24)\n",
    "# a is 12 and b is 24 and c is 10\n",
    "func(12, c = 24)\n",
    "# a is 12 and b is 5 and c is 24\n",
    "func(b=12, c = 24, a = -1)\n",
    "# a is -1 and b is 12 and c is 24\n",
    "```\n",
    "在上面的例子中你能看见调用函数时使用了变量名，比如 func(12,c = 24)，这样我们将 24 赋给 c 且 b 具有默认值。\n",
    "\n",
    "### 强制关键字参数\n",
    "我们也能将函数的参数标记为只允许使用关键字参数。用户调用函数时将只能对每一个参数使用相应的关键字参数。\n",
    "```python\n",
    "def hello(*, name='User'):\n",
    "    print(\"Hello\", name)\n",
    "\n",
    "hello('shiyanlou')\n",
    "# Traceback (most recent call last):\n",
    "#   File \"<stdin>\", line 1, in <module>\n",
    "# TypeError: hello() takes 0 positional arguments but 1 was given\n",
    "\n",
    "hello(name='shiyanlou')\n",
    "# Hello shiyanlou\n",
    "```\n",
    "了解更多，请阅读PEP-3102。\n",
    "\n",
    "### 文档字符串\n",
    "在 Python 里我们使用文档字符串（docstrings）来说明如何使用代码，这在交互模式非常有用，也能用于自动创建文档。下面我们来看看使用文档字符串的例子。"
   ]
  },
  {
   "cell_type": "code",
   "execution_count": 6,
   "metadata": {},
   "outputs": [
    {
     "name": "stdout",
     "output_type": "stream",
     "text": [
      "\n",
      "    Function to find the length of the longest side of a right triangle.\n",
      "\n",
      "    :arg a: Side a of the triangle\n",
      "    :arg b: Side b of the triangle\n",
      "\n",
      "    :return: Length of the longest side c as float\n",
      "    \n",
      "6.4031242374328485\n"
     ]
    }
   ],
   "source": [
    "import math\n",
    "\n",
    "def longest_side(a, b):\n",
    "    \"\"\"\n",
    "    Function to find the length of the longest side of a right triangle.\n",
    "\n",
    "    :arg a: Side a of the triangle\n",
    "    :arg b: Side b of the triangle\n",
    "\n",
    "    :return: Length of the longest side c as float\n",
    "    \"\"\"\n",
    "    return math.sqrt(a*a + b*b)\n",
    "\n",
    "if __name__ == '__main__':\n",
    "    print(longest_side.__doc__)\n",
    "    print(longest_side(4,5))"
   ]
  },
  {
   "cell_type": "markdown",
   "metadata": {},
   "source": [
    "### 高阶函数\n",
    "\n",
    "高阶函数（Higher-order function）或仿函数（functor）是内部至少含有一个以下步骤的函数：\n",
    "\n",
    "* 使用一个或多个函数作为参数\n",
    "* 返回另一个函数作为输出\n",
    "\n",
    "Python 里的任何函数都可以作为高阶函数。\n",
    "\n",
    "```python\n",
    "def high(func, value):\n",
    "    return func(value)\n",
    "\n",
    "lst = high(dir, int)\n",
    "print(lst[-3:])\n",
    "# ['imag', 'numerator', 'real']\n",
    "```\n",
    "\n",
    "#### map 函数\n",
    "\n",
    "map 是一个在 Python 里非常有用的高阶函数。它接受一个函数和一个序列（迭代器）作为输入，然后对序列（迭代器）的每一个值应用这个函数，返回一个序列（迭代器），其包含应用函数后的结果。\n",
    "在 Python 中还有其它的高阶函数，如 sorted()、filter() 以及 functools 模块中的函数，大家可以了解一下。"
   ]
  },
  {
   "cell_type": "code",
   "execution_count": 10,
   "metadata": {},
   "outputs": [
    {
     "name": "stdout",
     "output_type": "stream",
     "text": [
      "[1, 4, 9, 16, 25]\n"
     ]
    }
   ],
   "source": [
    "lst = [1, 2, 3, 4, 5]\n",
    "def square(num):\n",
    "    \"返回所给数字的平方.\"\n",
    "    return num * num\n",
    "\n",
    "print(list(map(square, lst)))"
   ]
  }
 ],
 "metadata": {
  "kernelspec": {
   "display_name": "Python 3",
   "language": "python",
   "name": "python3"
  },
  "language_info": {
   "codemirror_mode": {
    "name": "ipython",
    "version": 3
   },
   "file_extension": ".py",
   "mimetype": "text/x-python",
   "name": "python",
   "nbconvert_exporter": "python",
   "pygments_lexer": "ipython3",
   "version": "3.6.3"
  }
 },
 "nbformat": 4,
 "nbformat_minor": 2
}
